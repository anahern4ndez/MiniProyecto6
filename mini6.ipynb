{
 "metadata": {
  "language_info": {
   "codemirror_mode": {
    "name": "ipython",
    "version": 3
   },
   "file_extension": ".py",
   "mimetype": "text/x-python",
   "name": "python",
   "nbconvert_exporter": "python",
   "pygments_lexer": "ipython3",
   "version": "3.8.5-final"
  },
  "orig_nbformat": 2,
  "kernelspec": {
   "name": "python3",
   "display_name": "Python 3"
  }
 },
 "nbformat": 4,
 "nbformat_minor": 2,
 "cells": [
  {
   "source": [
    "# MiniProyecto 6\n",
    "\n",
    "Ana Lucía Hernández - 17138.\n",
    "María Fernanda López - 17160. "
   ],
   "cell_type": "markdown",
   "metadata": {}
  },
  {
   "cell_type": "code",
   "execution_count": null,
   "metadata": {},
   "outputs": [],
   "source": [
    "from genetic_functions import *"
   ]
  },
  {
   "source": [
    "## Task 1 \n",
    "Encuentre: \n",
    "\n",
    "$ Max f(x_1, x_2) = 15x_1 + 30x_2 + 4x_1x_2 - 2x_1 ^2 - 4x_2^2$\n",
    "\n",
    "$ x_1 + 2x_2 \\leq 30 $\n",
    "\n",
    "$ x_1, x_2 \\geq 0 $\n"
   ],
   "cell_type": "markdown",
   "metadata": {}
  },
  {
   "source": [
    "## Task 2\n",
    "Encuentre: \n",
    "\n",
    "$ Max f(x_1, x_2) = 3x_1 + 5x_2$\n",
    "\n",
    "$ x_1 \\leq 4 $\n",
    "\n",
    "$ 2x_2 \\leq 12 $\n",
    "\n",
    "$ 3x_1 + 2x_2 \\leq 18 $\n",
    "\n",
    "$ x_1, x_2 \\geq 0 $"
   ],
   "cell_type": "markdown",
   "metadata": {}
  },
  {
   "source": [
    "## Task 3\n",
    "Encuentre: \n",
    "\n",
    "$ Max f(x_1, x_2) = 5x_1 - x_1^2 + 8x_2 - 2x_2^2$\n",
    "\n",
    "$ 3x_1 + 2x_2 \\leq 6 $\n",
    "\n",
    "$ x_1, x_2 \\geq 0 $"
   ],
   "cell_type": "markdown",
   "metadata": {}
  },
  {
   "cell_type": "code",
   "execution_count": null,
   "metadata": {},
   "outputs": [],
   "source": []
  }
 ]
}