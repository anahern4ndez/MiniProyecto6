{
 "metadata": {
  "language_info": {
   "codemirror_mode": {
    "name": "ipython",
    "version": 3
   },
   "file_extension": ".py",
   "mimetype": "text/x-python",
   "name": "python",
   "nbconvert_exporter": "python",
   "pygments_lexer": "ipython3",
   "version": "3.8.5-final"
  },
  "orig_nbformat": 2,
  "kernelspec": {
   "name": "python3",
   "display_name": "Python 3"
  }
 },
 "nbformat": 4,
 "nbformat_minor": 2,
 "cells": [
  {
   "source": [
    "# MiniProyecto 6\n",
    "\n",
    "Ana Lucía Hernández - 17138.\n",
    "María Fernanda López - 17160. "
   ],
   "cell_type": "markdown",
   "metadata": {}
  },
  {
   "cell_type": "code",
   "execution_count": 1,
   "metadata": {},
   "outputs": [],
   "source": [
    "from genetic_functions import *"
   ]
  },
  {
   "source": [
    "## Task 1 \n",
    "Encuentre: \n",
    "\n",
    "$ Max f(x_1, x_2) = 15x_1 + 30x_2 + 4x_1x_2 - 2x_1 ^2 - 4x_2^2$\n",
    "\n",
    "$ x_1 + 2x_2 \\leq 30 $\n",
    "\n",
    "$ x_1, x_2 \\geq 0 $\n"
   ],
   "cell_type": "markdown",
   "metadata": {}
  },
  {
   "cell_type": "code",
   "execution_count": 2,
   "metadata": {},
   "outputs": [
    {
     "output_type": "stream",
     "name": "stdout",
     "text": [
      "Para x_1 = 12 y x_2 = 9 el valor maximo es: 270\n"
     ]
    }
   ],
   "source": [
    "### Se denine la cantidad de individuos iniciales la funcion fitness y la condicion\n",
    "NUM_POPULATION = 10000\n",
    "NUM_ITERS = 1000\n",
    "MIN_LIM = 0\n",
    "MAX_LIM = 30\n",
    "\n",
    "# generacion de poblacion inicial\n",
    "population = generate_population(NUM_POPULATION, MIN_LIM, MAX_LIM, eval1)\n",
    "fit_end = get_fit_end(population, task1)\n",
    "x_values, result = genetic_algorithm(NUM_ITERS, population, task1, eval1, fit_end)\n",
    "\n",
    "print(\"Para x_1 =\", x_values[0], \"y x_2 =\", x_values[1], \"el valor maximo es:\", result)"
   ]
  },
  {
   "source": [
    "## Task 2\n",
    "Encuentre: \n",
    "\n",
    "$ Max f(x_1, x_2) = 3x_1 + 5x_2$\n",
    "\n",
    "$ x_1 \\leq 4 $\n",
    "\n",
    "$ 2x_2 \\leq 12 $\n",
    "\n",
    "$ 3x_1 + 2x_2 \\leq 18 $\n",
    "\n",
    "$ x_1, x_2 \\geq 0 $"
   ],
   "cell_type": "markdown",
   "metadata": {}
  },
  {
   "cell_type": "code",
   "execution_count": 3,
   "metadata": {},
   "outputs": [
    {
     "output_type": "stream",
     "name": "stdout",
     "text": [
      "Para x_1 = 2 y x_2 = 6 el valor maximo es: 36\n"
     ]
    }
   ],
   "source": [
    "### Se denine la cantidad de individuos iniciales la funcion fitness y la condicion\n",
    "NUM_POPULATION = 10000\n",
    "NUM_ITERS = 1000\n",
    "MIN_LIM = 0\n",
    "MAX_LIM = 6\n",
    "\n",
    "# generacion de poblacion inicial\n",
    "population = generate_population(NUM_POPULATION, MIN_LIM, MAX_LIM, eval2)\n",
    "fit_end = get_fit_end(population, task2)\n",
    "x_values, result = genetic_algorithm(NUM_ITERS, population, task2, eval2, fit_end)\n",
    "\n",
    "print(\"Para x_1 =\", x_values[0], \"y x_2 =\", x_values[1], \"el valor maximo es:\", result)"
   ]
  },
  {
   "source": [
    "## Task 3\n",
    "Encuentre: \n",
    "\n",
    "$ Max f(x_1, x_2) = 5x_1 - x_1^2 + 8x_2 - 2x_2^2$\n",
    "\n",
    "$ 3x_1 + 2x_2 \\leq 6 $\n",
    "\n",
    "$ x_1, x_2 \\geq 0 $"
   ],
   "cell_type": "markdown",
   "metadata": {}
  },
  {
   "cell_type": "code",
   "execution_count": 4,
   "metadata": {},
   "outputs": [
    {
     "output_type": "stream",
     "name": "stdout",
     "text": [
      "Para x_1 = 1 y x_2 = 1 el valor maximo es: 10\n"
     ]
    }
   ],
   "source": [
    "# generacion de poblacion inicial\n",
    "population = generate_population(NUM_POPULATION, MIN_LIM, MAX_LIM, eval3)\n",
    "fit_end = get_fit_end(population, task3)\n",
    "x_values, result = genetic_algorithm(NUM_ITERS, population, task3, eval3, fit_end)\n",
    "\n",
    "print(\"Para x_1 =\", x_values[0], \"y x_2 =\", x_values[1], \"el valor maximo es:\", result)"
   ]
  },
  {
   "cell_type": "code",
   "execution_count": null,
   "metadata": {},
   "outputs": [],
   "source": []
  }
 ]
}